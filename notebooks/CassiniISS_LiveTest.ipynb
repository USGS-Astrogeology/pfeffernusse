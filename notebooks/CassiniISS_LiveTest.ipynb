{
 "cells": [
  {
   "cell_type": "code",
   "execution_count": 1,
   "metadata": {},
   "outputs": [],
   "source": [
    "import ctypes\n",
    "import json\n",
    "import requests\n",
    "import csmapi\n",
    "import os"
   ]
  },
  {
   "cell_type": "code",
   "execution_count": 2,
   "metadata": {},
   "outputs": [],
   "source": [
    "label = \"\"\"\n",
    "PDS_VERSION_ID = PDS3\n",
    "\n",
    "/* FILE CHARACTERISTICS */\n",
    "\n",
    "RECORD_TYPE = FIXED_LENGTH\n",
    "RECORD_BYTES = 1048\n",
    "FILE_RECORDS = 1028\n",
    "\n",
    "/* POINTERS TO DATA OBJECTS */\n",
    "\n",
    "^IMAGE_HEADER = (\"N1489050409_2.IMG\",1)\n",
    "^TELEMETRY_TABLE = (\"N1489050409_2.IMG\",4)\n",
    "^LINE_PREFIX_TABLE = (\"N1489050409_2.IMG\",5)\n",
    "^IMAGE = (\"N1489050409_2.IMG\",5)\n",
    "\n",
    "/* IDENTIFICATION DATA ELEMENTS */\n",
    "\n",
    "ANTIBLOOMING_STATE_FLAG = \"ON\"\n",
    "BIAS_STRIP_MEAN = 17.775930\n",
    "CALIBRATION_LAMP_STATE_FLAG = \"N/A\"\n",
    "COMMAND_FILE_NAME = \"trigger_3500_2.ioi\"\n",
    "COMMAND_SEQUENCE_NUMBER = 3500\n",
    "DARK_STRIP_MEAN = 8.000000\n",
    "DATA_CONVERSION_TYPE = \"TABLE\"\n",
    "DATA_SET_ID = \"CO-S-ISSNA/ISSWA-2-EDR-V1.0\"\n",
    "DELAYED_READOUT_FLAG = \"NO\"\n",
    "DESCRIPTION = \"Incomplete product finalized due to truncated lines.\"\n",
    "DETECTOR_TEMPERATURE = -89.318428 <DEGC>\n",
    "EARTH_RECEIVED_START_TIME = 2005-068T18:14:59.874\n",
    "EARTH_RECEIVED_STOP_TIME = 2005-068T18:15:50.198\n",
    "ELECTRONICS_BIAS = 112\n",
    "EXPECTED_MAXIMUM = (20.075399,51.700699)\n",
    "EXPECTED_PACKETS = 576\n",
    "EXPOSURE_DURATION = 1500.000000\n",
    "FILTER_NAME = (\"CL1\",\"UV3\")\n",
    "FILTER_TEMPERATURE = -0.468354\n",
    "FLIGHT_SOFTWARE_VERSION_ID = \"1.3\"\n",
    "GAIN_MODE_ID = \"12 ELECTRONS PER DN\"\n",
    "IMAGE_MID_TIME = 2005-068T08:40:12.294\n",
    "IMAGE_NUMBER = \"1489050409\"\n",
    "IMAGE_OBSERVATION_TYPE = {\"SCIENCE\"}\n",
    "IMAGE_TIME = 2005-068T08:40:13.044\n",
    "INSTRUMENT_DATA_RATE = 182.783997\n",
    "INSTRUMENT_HOST_NAME = \"CASSINI ORBITER\"\n",
    "INSTRUMENT_ID = \"ISSNA\"\n",
    "INSTRUMENT_MODE_ID = \"FULL\"\n",
    "INSTRUMENT_NAME = \"IMAGING SCIENCE SUBSYSTEM NARROW ANGLE\"\n",
    "INST_CMPRS_PARAM = (\"N/A\",\"N/A\",\"N/A\",\"N/A\")\n",
    "INST_CMPRS_RATE = (5.333330,4.344592)\n",
    "INST_CMPRS_RATIO = 1.841370\n",
    "INST_CMPRS_TYPE = \"LOSSLESS\"\n",
    "LIGHT_FLOOD_STATE_FLAG = \"ON\"\n",
    "METHOD_DESC = \"ISSPT2.6.1;Enceladus;ISS_004EN_REGEO002_PRIME_7\"\n",
    "MISSING_LINES = 512\n",
    "MISSING_PACKET_FLAG = \"NO\"\n",
    "MISSION_NAME = \"CASSINI-HUYGENS\"\n",
    "MISSION_PHASE_NAME = \"TOUR\"\n",
    "OBSERVATION_ID = \"ISS_004EN_REGEO002_PRIME\"\n",
    "OPTICS_TEMPERATURE = (0.797890,1.905708)\n",
    "ORDER_NUMBER = 55\n",
    "PARALLEL_CLOCK_VOLTAGE_INDEX = 9\n",
    "PREPARE_CYCLE_INDEX = 1\n",
    "PRODUCT_CREATION_TIME = 2005-068T15:14:19.000\n",
    "PRODUCT_ID = \"1_N1489050409.118\"\n",
    "PRODUCT_VERSION_TYPE = \"FINAL\"\n",
    "READOUT_CYCLE_INDEX = 10\n",
    "RECEIVED_PACKETS = 576\n",
    "SENSOR_HEAD_ELEC_TEMPERATURE = 1.633024\n",
    "SEQUENCE_ID = \"S09\"\n",
    "SEQUENCE_NUMBER = 55\n",
    "SEQUENCE_TITLE = \"ISS_004EN_REGEO002_PRIME\"\n",
    "SHUTTER_MODE_ID = \"NACONLY\"\n",
    "SHUTTER_STATE_ID = \"ENABLED\"\n",
    "SOFTWARE_VERSION_ID = \"ISS 9.00 02-05-2004\"\n",
    "SPACECRAFT_CLOCK_CNT_PARTITION = 1\n",
    "SPACECRAFT_CLOCK_START_COUNT = \"1489050407.243\"\n",
    "SPACECRAFT_CLOCK_STOP_COUNT = \"1489050409.118\"\n",
    "START_TIME = 2005-068T08:40:11.544\n",
    "STOP_TIME = 2005-068T08:40:13.044\n",
    "TARGET_DESC = \"Enceladus\"\n",
    "TARGET_LIST = \"N/A\"\n",
    "TARGET_NAME = \"ENCELADUS\"\n",
    "TELEMETRY_FORMAT_ID = \"UNK\"\n",
    "VALID_MAXIMUM = (9896,4095)\n",
    "OBJECT = IMAGE_HEADER\n",
    "      INTERCHANGE_FORMAT = ASCII\n",
    "      HEADER_TYPE = VICAR2\n",
    "       BYTES = 3144\n",
    "      RECORDS = 1\n",
    "      ^DESCRIPTION = \"VICAR2.TXT\"\n",
    "END_OBJECT = IMAGE_HEADER\n",
    "OBJECT = TELEMETRY_TABLE\n",
    "      INTERCHANGE_FORMAT = BINARY\n",
    "      ROWS = 1\n",
    "      COLUMNS = 2\n",
    "      ROW_BYTES = 1048\n",
    "      ^STRUCTURE = \"TLMTAB.FMT\"\n",
    "      OBJECT = COLUMN\n",
    "            NAME = NULL_PADDING\n",
    "            DATA_TYPE = MSB_UNSIGNED_INTEGER\n",
    "            START_BYTE = 61\n",
    "            BYTES = 987\n",
    "      END_OBJECT = COLUMN\n",
    "END_OBJECT = TELEMETRY_TABLE\n",
    "OBJECT = LINE_PREFIX_TABLE\n",
    "      INTERCHANGE_FORMAT = BINARY\n",
    "      ROWS = 1024\n",
    "      COLUMNS = 7\n",
    "      ROW_BYTES = 24\n",
    "      ROW_SUFFIX_BYTES = 1024\n",
    "      ^LINE_PREFIX_STRUCTURE = \"PREFIX2.FMT\"\n",
    "END_OBJECT = LINE_PREFIX_TABLE\n",
    "OBJECT = IMAGE\n",
    "      LINES = 1024\n",
    "      LINE_SAMPLES = 1024\n",
    "      SAMPLE_BITS = 8\n",
    "      SAMPLE_TYPE = SUN_INTEGER\n",
    "      LINE_PREFIX_BYTES = 24\n",
    "END_OBJECT = IMAGE\n",
    "END\n",
    "\"\"\""
   ]
  },
  {
   "cell_type": "code",
   "execution_count": 3,
   "metadata": {},
   "outputs": [],
   "source": [
    "url = \"https://astroservices.usgs.gov/pfeffer/v1/pds/\"\n",
    "resp = requests.post(url, json={\"label\":label})\n",
    "\n",
    "# Where to write out the returned ISD information to a file:\n",
    "isd_file = '/scratch/csm2020/EN0221843562M2.json'\n",
    "with open(isd_file, 'w') as f:\n",
    "    json.dump(resp.json(), f)"
   ]
  },
  {
   "cell_type": "code",
   "execution_count": 4,
   "metadata": {},
   "outputs": [
    {
     "data": {
      "text/plain": [
       "{'body_rotation': {'angular_velocities': [[4.5439686694917016e-06,\n",
       "    3.902656489033144e-06,\n",
       "    5.273425043315827e-05]],\n",
       "  'ck_table_end_time': 163629676.46813414,\n",
       "  'ck_table_original_size': 1,\n",
       "  'ck_table_start_time': 163629676.46813414,\n",
       "  'ephemeris_times': [163629676.46813414],\n",
       "  'quaternions': [[-0.12978164735260858,\n",
       "    -0.04730006397482776,\n",
       "    -0.030939504765264355,\n",
       "    -0.9899303889684873]],\n",
       "  'reference_frame': 1,\n",
       "  'time_dependent_frames': [10040, 1]},\n",
       " 'center_ephemeris_time': 163629676.46813414,\n",
       " 'detector_center': {'line': 512, 'sample': 512},\n",
       " 'detector_line_summing': 1,\n",
       " 'detector_sample_summing': 1,\n",
       " 'focal2pixel_lines': [0.0, 0.0, 83.33333333333333],\n",
       " 'focal2pixel_samples': [0.0, 83.33333333333333, 0.0],\n",
       " 'focal_length_model': {'focal_length': 2003.09},\n",
       " 'image_lines': 1024,\n",
       " 'image_samples': 1024,\n",
       " 'instrument_pointing': {'angular_velocities': [[8.730265307582475e-06,\n",
       "    3.327774546194313e-06,\n",
       "    -3.8549911985652076e-05]],\n",
       "  'ck_table_end_time': 163629676.46813414,\n",
       "  'ck_table_original_size': 1,\n",
       "  'ck_table_start_time': 163629676.46813414,\n",
       "  'constant_frames': [14082360, -82360, -82000],\n",
       "  'constant_rotation': [-0.0014870197280317243,\n",
       "   -0.00017182872562460094,\n",
       "   0.9999988796229812,\n",
       "   -0.9999987285211892,\n",
       "   -0.0005757037366556639,\n",
       "   -0.0014871184258904435,\n",
       "   0.0005759586213144319,\n",
       "   -0.9999998195200321,\n",
       "   -0.00017097242433411486],\n",
       "  'ephemeris_times': [163629676.46813414],\n",
       "  'quaternions': [[-0.4176940221260454,\n",
       "    -0.6161904031037859,\n",
       "    -0.384192805697549,\n",
       "    -0.546110775441399]],\n",
       "  'reference_frame': 1,\n",
       "  'time_dependent_frames': [-82000, 1]},\n",
       " 'instrument_position': {'ephemeris_times': [163629676.46813414],\n",
       "  'positions': [[10310.037798965846, -3855.3079992733624, -1074.82920973461]],\n",
       "  'reference_frame': 1,\n",
       "  'spk_table_end_time': 163629676.46813414,\n",
       "  'spk_table_original_size': 1,\n",
       "  'spk_table_start_time': 163629676.46813414,\n",
       "  'velocities': [[-6.330187030449425,\n",
       "    1.9071563292093066,\n",
       "    0.46091363499324395]]},\n",
       " 'isis_camera_version': 1,\n",
       " 'naif_keywords': {'BODY602_LONG_AXIS': 0.0,\n",
       "  'BODY602_PM': [6.32, 262.7318996, 0.0],\n",
       "  'BODY602_POLE_DEC': [83.52, -0.004, 0.0],\n",
       "  'BODY602_POLE_RA': [40.66, -0.036, 0.0],\n",
       "  'BODY602_RADII': [256.6, 251.4, 248.3],\n",
       "  'BODY_CODE': 602,\n",
       "  'BODY_FRAME_CODE': 10040,\n",
       "  'FRAME_-82360_CENTER': -82.0,\n",
       "  'FRAME_-82360_CLASS': 4.0,\n",
       "  'FRAME_-82360_CLASS_ID': -82360.0,\n",
       "  'FRAME_-82360_NAME': 'CASSINI_ISS_NAC',\n",
       "  'INS-82360_BORESIGHT': [0.0, 0.0, 1.0],\n",
       "  'INS-82360_CCD_CENTER': [512.5, 512.5],\n",
       "  'INS-82360_CYCLE_DURATION': '0:01:00.0',\n",
       "  'INS-82360_F/NUMBER': 10.5,\n",
       "  'INS-82360_FL_UNCERTAINTY': 0.03,\n",
       "  'INS-82360_FOCAL_LENGTH': 2003.44,\n",
       "  'INS-82360_FOV_ANGLE_UNITS': 'DEGREES',\n",
       "  'INS-82360_FOV_CENTER_PIXEL': [511.5, 511.5],\n",
       "  'INS-82360_FOV_CLASS_SPEC': 'ANGLES',\n",
       "  'INS-82360_FOV_CROSS_ANGLE': 0.175,\n",
       "  'INS-82360_FOV_FRAME': 'CASSINI_ISS_NAC',\n",
       "  'INS-82360_FOV_REF_ANGLE': 0.175,\n",
       "  'INS-82360_FOV_REF_VECTOR': [1.0, 0.0, 0.0],\n",
       "  'INS-82360_FOV_SHAPE': 'RECTANGLE',\n",
       "  'INS-82360_IFOV': 6.0,\n",
       "  'INS-82360_MODE_NAME': 'NOMINAL',\n",
       "  'INS-82360_PIXEL_LINES': 1024.0,\n",
       "  'INS-82360_PIXEL_SAMPLES': 1024.0,\n",
       "  'INS-82360_PIXEL_SIZE': 12.0,\n",
       "  'INS-82360_PLATFORM_ID': -82000.0,\n",
       "  'INS-82360_TRIGGER_OFFSET': '0:01:00.0',\n",
       "  'INS-82360_WAVELENGTH_RANGE': [200.0, 1100.0],\n",
       "  'TKFRAME_-82360_ANGLES': [-90.009796, -0.033, 89.9148],\n",
       "  'TKFRAME_-82360_AXES': [1.0, 2.0, 3.0],\n",
       "  'TKFRAME_-82360_RELATIVE': 'CASSINI_SC_COORD',\n",
       "  'TKFRAME_-82360_SPEC': 'ANGLES',\n",
       "  'TKFRAME_-82360_UNITS': 'DEGREES'},\n",
       " 'name_model': 'USGS_ASTRO_FRAME_SENSOR_MODEL',\n",
       " 'name_platform': 'CASSINI ORBITER',\n",
       " 'name_sensor': 'IMAGING SCIENCE SUBSYSTEM NARROW ANGLE',\n",
       " 'optical_distortion': {'radial': {'coefficients': [0, -8e-06, 0]}},\n",
       " 'radii': {'semimajor': 256.6, 'semiminor': 248.3, 'unit': 'km'},\n",
       " 'reference_height': {'maxheight': 1000, 'minheight': -1000, 'unit': 'm'},\n",
       " 'starting_detector_line': 0,\n",
       " 'starting_detector_sample': 0,\n",
       " 'sun_position': {'ephemeris_times': [163629676.46813414],\n",
       "  'positions': [[590446999.8530295, -1119139180.055936, -487649936.6335239]],\n",
       "  'reference_frame': 1,\n",
       "  'spk_table_end_time': 163629676.46813414,\n",
       "  'spk_table_original_size': 1,\n",
       "  'spk_table_start_time': 163629676.46813414,\n",
       "  'velocities': [[9.080854410164058, -9.58904659247026, 1.944677060660906]]}}"
      ]
     },
     "execution_count": 4,
     "metadata": {},
     "output_type": "execute_result"
    }
   ],
   "source": [
    "resp.json()"
   ]
  },
  {
   "cell_type": "code",
   "execution_count": 5,
   "metadata": {},
   "outputs": [
    {
     "data": {
      "text/plain": [
       "<CDLL '/home/kberry/anaconda3/envs/csm/lib/libusgscsm.so', handle 55778d5ca9b0 at 0x7fd32784aa90>"
      ]
     },
     "execution_count": 5,
     "metadata": {},
     "output_type": "execute_result"
    }
   ],
   "source": [
    "# Set up location of usgscsm library\n",
    "lib = \"$CONDA_PREFIX/lib/libusgscsm.so\"\n",
    "ctypes.CDLL(os.path.expandvars(lib))"
   ]
  },
  {
   "cell_type": "code",
   "execution_count": 6,
   "metadata": {},
   "outputs": [],
   "source": [
    "plugin = csmapi.Plugin.findPlugin('UsgsAstroPluginCSM')\n",
    "plugin_list = csmapi.Plugin.getList()\n",
    "isd = csmapi.Isd(isd_file)\n",
    "model_name = resp.json()['name_model']"
   ]
  },
  {
   "cell_type": "code",
   "execution_count": 7,
   "metadata": {},
   "outputs": [],
   "source": [
    "if plugin.canModelBeConstructedFromISD(isd, model_name):\n",
    "    model = plugin.constructModelFromISD(isd, model_name)"
   ]
  },
  {
   "cell_type": "code",
   "execution_count": 8,
   "metadata": {},
   "outputs": [
    {
     "data": {
      "text/plain": [
       "(1024.0, 1024.0)"
      ]
     },
     "execution_count": 8,
     "metadata": {},
     "output_type": "execute_result"
    }
   ],
   "source": [
    "isize = model.getImageSize()\n",
    "isize.line, isize.samp"
   ]
  },
  {
   "cell_type": "code",
   "execution_count": 9,
   "metadata": {},
   "outputs": [
    {
     "data": {
      "text/plain": [
       "(-239510.99319915846, 92074.02974827122, 625.0045639300952)"
      ]
     },
     "execution_count": 9,
     "metadata": {},
     "output_type": "execute_result"
    }
   ],
   "source": [
    "ic = csmapi.ImageCoord(206, 206)\n",
    "gnd = model.imageToGround(ic, 0)\n",
    "gnd.x, gnd.y, gnd.z"
   ]
  }
 ],
 "metadata": {
  "anaconda-cloud": {},
  "kernelspec": {
   "display_name": "Python 3",
   "language": "python",
   "name": "python3"
  },
  "language_info": {
   "codemirror_mode": {
    "name": "ipython",
    "version": 3
   },
   "file_extension": ".py",
   "mimetype": "text/x-python",
   "name": "python",
   "nbconvert_exporter": "python",
   "pygments_lexer": "ipython3",
   "version": "3.7.6"
  }
 },
 "nbformat": 4,
 "nbformat_minor": 2
}
