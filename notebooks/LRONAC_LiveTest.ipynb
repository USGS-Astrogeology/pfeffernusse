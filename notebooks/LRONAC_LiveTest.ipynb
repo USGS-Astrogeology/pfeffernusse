{
 "cells": [
  {
   "cell_type": "code",
   "execution_count": 1,
   "metadata": {},
   "outputs": [],
   "source": [
    "import ctypes\n",
    "import json\n",
    "import requests\n",
    "import csmapi\n",
    "import os"
   ]
  },
  {
   "cell_type": "code",
   "execution_count": 2,
   "metadata": {},
   "outputs": [
    {
     "data": {
      "text/plain": [
       "<CDLL '/home/kberry/anaconda3/envs/csm/lib/libusgscsm.so', handle 5622855ab1b0 at 0x7f9391026650>"
      ]
     },
     "execution_count": 2,
     "metadata": {},
     "output_type": "execute_result"
    }
   ],
   "source": [
    "# Set up the location of the usgscsm library:\n",
    "lib = \"$CONDA_PREFIX/lib/libusgscsm.so\"\n",
    "ctypes.CDLL(os.path.expandvars(lib))"
   ]
  },
  {
   "cell_type": "code",
   "execution_count": 3,
   "metadata": {},
   "outputs": [],
   "source": [
    "label = \"\"\"\n",
    "PDS_VERSION_ID                     = PDS3\n",
    "\n",
    "/*FILE CHARACTERISTICS*/\n",
    "RECORD_TYPE                        = FIXED_LENGTH\n",
    "RECORD_BYTES                       = 5064      \n",
    "FILE_RECORDS                       = 52225     \n",
    "LABEL_RECORDS                      = 1         \n",
    "^IMAGE                             = 2         \n",
    "\n",
    "/*DATA IDENTIFICATION*/\n",
    "DATA_SET_ID                        = \"LRO-L-LROC-2-EDR-V1.0\"\n",
    "ORIGINAL_PRODUCT_ID                = nacr0002fc2d\n",
    "PRODUCT_ID                         = M128962330RE\n",
    "MISSION_NAME                       = \"LUNAR RECONNAISSANCE ORBITER\"\n",
    "MISSION_PHASE_NAME                 = \"NOMINAL MISSION\"\n",
    "INSTRUMENT_HOST_NAME               = \"LUNAR RECONNAISSANCE ORBITER\"\n",
    "INSTRUMENT_HOST_ID                 = LRO\n",
    "INSTRUMENT_NAME                    = \"LUNAR RECONNAISSANCE ORBITER CAMERA\"\n",
    "INSTRUMENT_ID                      = LROC\n",
    "LRO:PREROLL_TIME                   = 2010-05-20T02:37:44.123\n",
    "START_TIME                         = 2010-05-20T02:37:44.470\n",
    "STOP_TIME                          = 2010-05-20T02:38:02.180\n",
    "LRO:SPACECRAFT_CLOCK_PREROLL_COUNT = \"1/296015864:06553\"\n",
    "SPACECRAFT_CLOCK_START_COUNT       = \"1/296015864:29310\"\n",
    "SPACECRAFT_CLOCK_STOP_COUNT        = \"1/296015882:10315\"\n",
    "ORBIT_NUMBER                       = 4138\n",
    "PRODUCER_ID                        = LRO_LROC_TEAM\n",
    "PRODUCT_CREATION_TIME              = 2013-09-16T20:08:12\n",
    "PRODUCER_INSTITUTION_NAME          = \"ARIZONA STATE UNIVERSITY\"\n",
    "PRODUCT_TYPE                       = EDR\n",
    "PRODUCT_VERSION_ID                 = \"v1.8\"\n",
    "UPLOAD_ID                          = \"SC_2010140_0000_A_V01.txt\"\n",
    "\n",
    "/*DATA DESCRIPTION*/\n",
    "TARGET_NAME                        = \"MOON\"\n",
    "RATIONALE_DESC                     = \"TARGET OF OPPORTUNITY\"\n",
    "FRAME_ID                           = RIGHT\n",
    "DATA_QUALITY_ID                    = \"0\"\n",
    "DATA_QUALITY_DESC                  = \"The DATA_QUALITY_ID is set to an 8-bit\n",
    "   value that encodes the following data quality information for the \n",
    "   observation. For each bit  a value of 0 means FALSE and a value of 1 means \n",
    "   TRUE. More information about the data quality ID can be found in the LROC\n",
    "   EDR/CDR SIS, section 3.3 'Label and Header Descriptions'.\n",
    "       Bit 1: Temperature of focal plane array is out of bounds.\n",
    "       Bit 2: Threshold for saturated pixels is reached.\n",
    "       Bit 3: Threshold for under-saturated pixels is reached.\n",
    "       Bit 4: Observation is missing telemetry packets.\n",
    "       Bit 5: SPICE information is bad or missing.\n",
    "       Bit 6: Observation or housekeeping information is bad or missing.\n",
    "       Bit 7: Spare.\n",
    "       Bit 8: Spare.\"\n",
    "\n",
    "/*ENVIRONMENT*/\n",
    "LRO:TEMPERATURE_SCS                = 4.16 <degC>\n",
    "LRO:TEMPERATURE_FPA                = 17.69 <degC>\n",
    "LRO:TEMPERATURE_FPGA               = -10.73 <degC>\n",
    "LRO:TEMPERATURE_TELESCOPE          = 7.20 <degC>\n",
    "LRO:TEMPERATURE_SCS_RAW            = 2756\n",
    "LRO:TEMPERATURE_FPA_RAW            = 2116\n",
    "LRO:TEMPERATURE_FPGA_RAW           = 3364\n",
    "LRO:TEMPERATURE_TELESCOPE_RAW      = 2615\n",
    "\n",
    "/*IMAGING PARAMETERS*/\n",
    "CROSSTRACK_SUMMING                 = 1\n",
    "BANDWIDTH                          = 300 <nm>\n",
    "CENTER_FILTER_WAVELENGTH           = 600 <nm>\n",
    "LINE_EXPOSURE_DURATION             = 0.337600 <ms>\n",
    "LRO:LINE_EXPOSURE_CODE             = 0\n",
    "LRO:DAC_RESET_LEVEL                = 188\n",
    "LRO:CHANNEL_A_OFFSET               = 70\n",
    "LRO:CHANNEL_B_OFFSET               = 123\n",
    "LRO:COMPAND_CODE                   = 3\n",
    "LRO:LINE_CODE                      = 51\n",
    "LRO:BTERM                          = (0,16,69,103,128)\n",
    "LRO:MTERM                          = (0.5,0.25,0.125,0.0625,0.03125)\n",
    "LRO:XTERM                          = (0,64,424,536,800)\n",
    "LRO:COMPRESSION_FLAG               = 1\n",
    "LRO:MODE                           = 7\n",
    "\n",
    "/*DATA OBJECT*/\n",
    "OBJECT                             = IMAGE\n",
    "    LINES                          = 52224\n",
    "    LINE_SAMPLES                   = 5064\n",
    "    SAMPLE_BITS                    = 8\n",
    "    SAMPLE_TYPE                    = LSB_INTEGER\n",
    "    UNIT                           = \"RAW_INSTRUMENT_COUNT\"\n",
    "    MD5_CHECKSUM                   = \"22c603cf339efe8a77c16696372e33c7\"\n",
    "END_OBJECT                         = IMAGE\n",
    "END\n",
    "\"\"\""
   ]
  },
  {
   "cell_type": "code",
   "execution_count": 4,
   "metadata": {},
   "outputs": [],
   "source": [
    "url = \"https://astroservices.usgs.gov/pfeffer/v1/pds/\"\n",
    "resp = requests.post(url, json={\"label\":label})\n",
    "\n",
    "# File to write the returned ISD information to:\n",
    "isd_file = '/scratch/csm2020/M128962330RE.json'\n",
    "\n",
    "# Write the pfeffer-generated ISD to a file:\n",
    "with open(isd_file, 'w') as f:\n",
    "    d = resp.json()\n",
    "    json.dump(d, f)"
   ]
  },
  {
   "cell_type": "code",
   "execution_count": 5,
   "metadata": {},
   "outputs": [],
   "source": [
    "plugin = csmapi.Plugin.findPlugin('UsgsAstroPluginCSM')\n",
    "isd = csmapi.Isd(isd_file)\n",
    "model_name = resp.json()['name_model']"
   ]
  },
  {
   "cell_type": "code",
   "execution_count": 6,
   "metadata": {},
   "outputs": [],
   "source": [
    "model = plugin.constructModelFromISD(isd, model_name)"
   ]
  },
  {
   "cell_type": "code",
   "execution_count": 7,
   "metadata": {},
   "outputs": [],
   "source": [
    "if plugin.canModelBeConstructedFromISD(isd, model_name):\n",
    "    model = plugin.constructModelFromISD(isd, model_name)"
   ]
  },
  {
   "cell_type": "code",
   "execution_count": 8,
   "metadata": {},
   "outputs": [
    {
     "data": {
      "text/plain": [
       "(52224.0, 5064.0)"
      ]
     },
     "execution_count": 8,
     "metadata": {},
     "output_type": "execute_result"
    }
   ],
   "source": [
    "isize = model.getImageSize()\n",
    "isize.line, isize.samp"
   ]
  },
  {
   "cell_type": "code",
   "execution_count": 9,
   "metadata": {},
   "outputs": [
    {
     "data": {
      "text/plain": [
       "(414520.47646492894, 474963.55179077573, -1619101.1855537565)"
      ]
     },
     "execution_count": 9,
     "metadata": {},
     "output_type": "execute_result"
    }
   ],
   "source": [
    "ic = csmapi.ImageCoord(100, 100)\n",
    "gnd = model.imageToGround(ic, 100)\n",
    "gnd.x, gnd.y, gnd.z"
   ]
  }
 ],
 "metadata": {
  "anaconda-cloud": {},
  "kernelspec": {
   "display_name": "Python 3",
   "language": "python",
   "name": "python3"
  },
  "language_info": {
   "codemirror_mode": {
    "name": "ipython",
    "version": 3
   },
   "file_extension": ".py",
   "mimetype": "text/x-python",
   "name": "python",
   "nbconvert_exporter": "python",
   "pygments_lexer": "ipython3",
   "version": "3.7.6"
  }
 },
 "nbformat": 4,
 "nbformat_minor": 2
}
